{
 "cells": [
  {
   "cell_type": "code",
   "execution_count": 1,
   "metadata": {},
   "outputs": [],
   "source": [
    "import json\n",
    "\n",
    "train_ori_dir = \"./datasets/coco/annotations/instances_train2017_ori.json\"\n",
    "train_save_dir = \"./datasets/coco/annotations/instances_train2017.json\"\n",
    "vali_ori_dir = \"./datasets/coco/annotations/instances_val2017_ori.json\"\n",
    "vali_save_dir = \"./datasets/coco/annotations/instances_val2017.json\"\n",
    "\n",
    "f = open(train_ori_dir)\n",
    "json_data_train = json.load(f)\n",
    "f.close()\n",
    "\n",
    "f = open(vali_ori_dir)\n",
    "json_data_vali = json.load(f)\n",
    "f.close()"
   ]
  },
  {
   "cell_type": "code",
   "execution_count": 2,
   "metadata": {},
   "outputs": [
    {
     "data": {
      "text/plain": [
       "dict_keys(['info', 'licenses', 'images', 'annotations', 'categories'])"
      ]
     },
     "execution_count": 2,
     "metadata": {},
     "output_type": "execute_result"
    }
   ],
   "source": [
    "json_data_train.keys()"
   ]
  },
  {
   "cell_type": "code",
   "execution_count": 3,
   "metadata": {},
   "outputs": [
    {
     "name": "stdout",
     "output_type": "stream",
     "text": [
      "860001\n",
      "36781\n"
     ]
    }
   ],
   "source": [
    "print(len(json_data_train[\"annotations\"]))\n",
    "print(len(json_data_vali[\"annotations\"]))"
   ]
  },
  {
   "cell_type": "code",
   "execution_count": 4,
   "metadata": {},
   "outputs": [],
   "source": [
    "del_list = []\n",
    "for idx in range(len(json_data_train[\"annotations\"])):\n",
    "    category_id = json_data_train[\"annotations\"][idx][\"category_id\"]\n",
    "    if not (19 <= category_id <= 25):\n",
    "        del_list.append(idx)\n",
    "\n",
    "for j in sorted(del_list, reverse = True):\n",
    "    del json_data_train[\"annotations\"][j]\n",
    "\n",
    "with open(train_save_dir, 'w') as outfile:\n",
    "    json.dump(json_data_train, outfile)"
   ]
  },
  {
   "cell_type": "code",
   "execution_count": 5,
   "metadata": {},
   "outputs": [],
   "source": [
    "del_list = []\n",
    "for idx in range(len(json_data_vali[\"annotations\"])):\n",
    "    category_id = json_data_vali[\"annotations\"][idx][\"category_id\"]\n",
    "    if not (19 <= category_id <= 25):\n",
    "        del_list.append(idx)\n",
    "\n",
    "for j in sorted(del_list, reverse = True):\n",
    "    del json_data_vali[\"annotations\"][j]\n",
    "\n",
    "with open(vali_save_dir, 'w') as outfile:\n",
    "    json.dump(json_data_vali, outfile)"
   ]
  },
  {
   "cell_type": "code",
   "execution_count": 6,
   "metadata": {},
   "outputs": [
    {
     "name": "stdout",
     "output_type": "stream",
     "text": [
      "41484\n",
      "1840\n"
     ]
    }
   ],
   "source": [
    "print(len(json_data_train[\"annotations\"]))\n",
    "print(len(json_data_vali[\"annotations\"]))"
   ]
  },
  {
   "cell_type": "code",
   "execution_count": null,
   "metadata": {},
   "outputs": [],
   "source": []
  }
 ],
 "metadata": {
  "kernelspec": {
   "display_name": "Python 3.8.12 ('wonseo': conda)",
   "language": "python",
   "name": "python3"
  },
  "language_info": {
   "codemirror_mode": {
    "name": "ipython",
    "version": 3
   },
   "file_extension": ".py",
   "mimetype": "text/x-python",
   "name": "python",
   "nbconvert_exporter": "python",
   "pygments_lexer": "ipython3",
   "version": "3.8.12"
  },
  "orig_nbformat": 4,
  "vscode": {
   "interpreter": {
    "hash": "aea00424887a4dbc6769ff59e38af6088711b49d69ca39953c7399a575379a2a"
   }
  }
 },
 "nbformat": 4,
 "nbformat_minor": 2
}
